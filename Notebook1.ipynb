{
 "cells": [
  {
   "attachments": {},
   "cell_type": "markdown",
   "metadata": {},
   "source": [
    "Methode 1 : \n",
    "\n",
    "Ici nous allons utiliser les images regulariser pour faire notre classification.Au lieu de classer l'image entier,\n",
    "nous allons decouper l'image en plusieurs region et essayer de classer chaque région."
   ]
  },
  {
   "cell_type": "code",
   "execution_count": 22,
   "metadata": {},
   "outputs": [],
   "source": [
    "# importation\n",
    "\n",
    "import numpy as np\n",
    "import pandas as pd\n",
    "import matplotlib.pyplot as plt\n",
    "from sklearn.model_selection import train_test_split\n",
    "from sklearn.ensemble import RandomForestClassifier\n",
    "from sklearn.metrics import accuracy_score, classification_report\n",
    "import seaborn as sns\n",
    "\n"
   ]
  },
  {
   "cell_type": "code",
   "execution_count": 11,
   "metadata": {},
   "outputs": [
    {
     "name": "stdout",
     "output_type": "stream",
     "text": [
      "       0.02      0.07      0.12      0.17      0.22      0.27      0.32  \\\n",
      "0  0.000957  0.000017  0.000069  0.001879  0.025045  0.045460  0.035587   \n",
      "1  0.000003  0.000000  0.000024  0.000876  0.010993  0.020155  0.014901   \n",
      "2  0.003247  0.000045  0.000169  0.003494  0.021913  0.034074  0.026940   \n",
      "3  0.001600  0.000048  0.000173  0.004795  0.028601  0.046650  0.034345   \n",
      "4  0.000153  0.000000  0.000051  0.000446  0.013763  0.047513  0.043878   \n",
      "\n",
      "       0.37      0.42      0.47  ...      0.62      0.67      0.72      0.77  \\\n",
      "0  0.027426  0.042963  0.068149  ...  0.106817  0.132338  0.161215  0.117359   \n",
      "1  0.011616  0.018079  0.031569  ...  0.058204  0.086296  0.139945  0.160593   \n",
      "2  0.021309  0.032736  0.045333  ...  0.058000  0.083947  0.152887  0.182800   \n",
      "3  0.025310  0.040484  0.057708  ...  0.075819  0.096439  0.139798  0.156392   \n",
      "4  0.036849  0.058380  0.081582  ...  0.071556  0.095867  0.158533  0.177398   \n",
      "\n",
      "       0.82      0.87      0.92      0.97  class      size  \n",
      "0  0.051999  0.019754  0.002832  0.000236    1.0  233062.0  \n",
      "1  0.159954  0.163104  0.042280  0.002166    2.0  287627.0  \n",
      "2  0.135663  0.089492  0.018990  0.001046    1.0  420755.0  \n",
      "3  0.106014  0.059198  0.007372  0.000360    2.0  144330.0  \n",
      "4  0.076607  0.007972  0.000727  0.000013    4.0   78400.0  \n",
      "\n",
      "[5 rows x 22 columns]\n",
      "['0.02', '0.07', '0.12', '0.17', '0.22', '0.27', '0.32', '0.37', '0.42', '0.47', '0.52', '0.57', '0.62', '0.67', '0.72', '0.77', '0.82', '0.87', '0.92', '0.97', 'class', 'size']\n",
      "22\n"
     ]
    }
   ],
   "source": [
    "# chargement de donnees et visualiser les 5 premiers ligne de notre dataframe\n",
    "\n",
    "df = pd.read_csv('feature_distribution.csv')\n",
    "print(df.head())\n",
    "\n",
    "# supprimer la premiere colonne et la derniere\n",
    "\n",
    "df = df.drop('Cloud type', axis=1)\n",
    "df = df.drop(df.columns[0], axis=1)\n",
    "print(df.head())\n",
    "\n",
    "# afficher les differents colonnes de df\n",
    "print(list(df.columns))\n",
    "print(len(list(df.columns)))"
   ]
  },
  {
   "cell_type": "code",
   "execution_count": 12,
   "metadata": {},
   "outputs": [
    {
     "name": "stdout",
     "output_type": "stream",
     "text": [
      "       0.02      0.07      0.12      0.17      0.22      0.27      0.32  \\\n",
      "0  0.000957  0.000017  0.000069  0.001879  0.025045  0.045460  0.035587   \n",
      "1  0.000003  0.000000  0.000024  0.000876  0.010993  0.020155  0.014901   \n",
      "2  0.003247  0.000045  0.000169  0.003494  0.021913  0.034074  0.026940   \n",
      "3  0.001600  0.000048  0.000173  0.004795  0.028601  0.046650  0.034345   \n",
      "4  0.000153  0.000000  0.000051  0.000446  0.013763  0.047513  0.043878   \n",
      "\n",
      "       0.37      0.42      0.47  ...      0.62      0.67      0.72      0.77  \\\n",
      "0  0.027426  0.042963  0.068149  ...  0.106817  0.132338  0.161215  0.117359   \n",
      "1  0.011616  0.018079  0.031569  ...  0.058204  0.086296  0.139945  0.160593   \n",
      "2  0.021309  0.032736  0.045333  ...  0.058000  0.083947  0.152887  0.182800   \n",
      "3  0.025310  0.040484  0.057708  ...  0.075819  0.096439  0.139798  0.156392   \n",
      "4  0.036849  0.058380  0.081582  ...  0.071556  0.095867  0.158533  0.177398   \n",
      "\n",
      "       0.82      0.87      0.92      0.97  class      size  \n",
      "0  0.051999  0.019754  0.002832  0.000236    1.0  0.327574  \n",
      "1  0.159954  0.163104  0.042280  0.002166    2.0  0.404677  \n",
      "2  0.135663  0.089492  0.018990  0.001046    1.0  0.592795  \n",
      "3  0.106014  0.059198  0.007372  0.000360    2.0  0.202190  \n",
      "4  0.076607  0.007972  0.000727  0.000013    4.0  0.109027  \n",
      "\n",
      "[5 rows x 22 columns]\n"
     ]
    }
   ],
   "source": [
    "# Normalisons la colonne size\n",
    "df['size'] = (df['size'] - df['size'].min()) / (df['size'].max() - df['size'].min())\n",
    "print(df.head())\n"
   ]
  },
  {
   "cell_type": "code",
   "execution_count": 16,
   "metadata": {},
   "outputs": [
    {
     "name": "stdout",
     "output_type": "stream",
     "text": [
      "0.02     float64\n",
      "0.07     float64\n",
      "0.12     float64\n",
      "0.17     float64\n",
      "0.22     float64\n",
      "0.27     float64\n",
      "0.32     float64\n",
      "0.37     float64\n",
      "0.42     float64\n",
      "0.47     float64\n",
      "0.52     float64\n",
      "0.57     float64\n",
      "0.62     float64\n",
      "0.67     float64\n",
      "0.72     float64\n",
      "0.77     float64\n",
      "0.82     float64\n",
      "0.87     float64\n",
      "0.92     float64\n",
      "0.97     float64\n",
      "class    float64\n",
      "size     float64\n",
      "dtype: object\n",
      "(11836, 22)\n",
      "               0.02          0.07          0.12          0.17          0.22  \\\n",
      "count  11836.000000  11836.000000  11836.000000  11836.000000  11836.000000   \n",
      "mean       0.000827      0.000010      0.000077      0.003053      0.039342   \n",
      "std        0.003464      0.000026      0.000164      0.005335      0.040974   \n",
      "min        0.000000      0.000000      0.000000      0.000000      0.000000   \n",
      "25%        0.000000      0.000000      0.000000      0.000216      0.009148   \n",
      "50%        0.000041      0.000000      0.000014      0.001089      0.027300   \n",
      "75%        0.000548      0.000009      0.000081      0.003535      0.056325   \n",
      "max        0.247462      0.000580      0.004477      0.079015      0.399856   \n",
      "\n",
      "               0.27          0.32          0.37          0.42          0.47  \\\n",
      "count  11836.000000  11836.000000  11836.000000  11836.000000  11836.000000   \n",
      "mean       0.060098      0.041680      0.031640      0.054517      0.074413   \n",
      "std        0.044949      0.025091      0.016852      0.027574      0.030328   \n",
      "min        0.000000      0.000000      0.000000      0.000032      0.000016   \n",
      "25%        0.024564      0.021851      0.018448      0.032928      0.051688   \n",
      "50%        0.050700      0.038390      0.030291      0.053091      0.075508   \n",
      "75%        0.086409      0.058388      0.043242      0.073303      0.095937   \n",
      "max        0.284133      0.142556      0.096154      0.183211      0.209175   \n",
      "\n",
      "       ...          0.62          0.67          0.72          0.77  \\\n",
      "count  ...  11836.000000  11836.000000  11836.000000  11836.000000   \n",
      "mean   ...      0.073701      0.086523      0.113379      0.113478   \n",
      "std    ...      0.018584      0.021636      0.035570      0.045060   \n",
      "min    ...      0.001269      0.003599      0.004482      0.001373   \n",
      "25%    ...      0.062535      0.073664      0.089924      0.080270   \n",
      "50%    ...      0.073587      0.087207      0.113385      0.114779   \n",
      "75%    ...      0.084779      0.099535      0.136948      0.146208   \n",
      "max    ...      0.178900      0.186438      0.329254      0.300570   \n",
      "\n",
      "               0.82          0.87          0.92          0.97         class  \\\n",
      "count  11836.000000  11836.000000  11836.000000  11836.000000  11836.000000   \n",
      "mean       0.087903      0.067010      0.019564      0.001308      2.647178   \n",
      "std        0.054210      0.064827      0.027224      0.002239      1.154211   \n",
      "min        0.000211      0.000000      0.000000      0.000000      1.000000   \n",
      "25%        0.043493      0.018490      0.002671      0.000096      2.000000   \n",
      "50%        0.080290      0.045548      0.009004      0.000504      3.000000   \n",
      "75%        0.126776      0.097251      0.025491      0.001575      4.000000   \n",
      "max        0.334536      0.473955      0.306937      0.053869      4.000000   \n",
      "\n",
      "               size  \n",
      "count  11836.000000  \n",
      "mean       0.289049  \n",
      "std        0.186491  \n",
      "min        0.000000  \n",
      "25%        0.143544  \n",
      "50%        0.247483  \n",
      "75%        0.392266  \n",
      "max        1.000000  \n",
      "\n",
      "[8 rows x 22 columns]\n"
     ]
    }
   ],
   "source": [
    "# verification des types de caracteristiques\n",
    "print(df.dtypes)\n",
    "\n",
    "# la forme du dataframe\n",
    "print(df.shape)\n",
    "\n",
    "# la methode describes\n",
    "print(df.describe())\n",
    "\n"
   ]
  },
  {
   "cell_type": "code",
   "execution_count": 17,
   "metadata": {},
   "outputs": [
    {
     "name": "stdout",
     "output_type": "stream",
     "text": [
      "0.02     0\n",
      "0.07     0\n",
      "0.12     0\n",
      "0.17     0\n",
      "0.22     0\n",
      "0.27     0\n",
      "0.32     0\n",
      "0.37     0\n",
      "0.42     0\n",
      "0.47     0\n",
      "0.52     0\n",
      "0.57     0\n",
      "0.62     0\n",
      "0.67     0\n",
      "0.72     0\n",
      "0.77     0\n",
      "0.82     0\n",
      "0.87     0\n",
      "0.92     0\n",
      "0.97     0\n",
      "class    0\n",
      "size     0\n",
      "dtype: int64\n"
     ]
    }
   ],
   "source": [
    "# les nombres de donnees null pour chaque colonne\n",
    "print(df.isnull().sum())"
   ]
  },
  {
   "cell_type": "code",
   "execution_count": 21,
   "metadata": {},
   "outputs": [
    {
     "name": "stdout",
     "output_type": "stream",
     "text": [
      "(11836, 21)\n",
      "(11836,)\n"
     ]
    }
   ],
   "source": [
    "# separation de donnees\n",
    "X = df.drop(columns='class')\n",
    "y = df['class']\n",
    "\n",
    "X_train,X_test,y_train,y_test = train_test_split(X,y,test_size=0.2,random_state=42)\n",
    "\n",
    "# shape de X et y\n",
    "print(X.shape)\n",
    "print(y.shape)"
   ]
  },
  {
   "cell_type": "code",
   "execution_count": 23,
   "metadata": {},
   "outputs": [
    {
     "name": "stdout",
     "output_type": "stream",
     "text": [
      "Précision du modèle : 0.59\n",
      "\n",
      "Rapport de classification :\n",
      "              precision    recall  f1-score   support\n",
      "\n",
      "         1.0       0.49      0.52      0.50       522\n",
      "         2.0       0.61      0.54      0.57       449\n",
      "         3.0       0.50      0.45      0.47       593\n",
      "         4.0       0.68      0.76      0.72       804\n",
      "\n",
      "    accuracy                           0.59      2368\n",
      "   macro avg       0.57      0.57      0.57      2368\n",
      "weighted avg       0.58      0.59      0.58      2368\n",
      "\n"
     ]
    }
   ],
   "source": [
    "\n",
    "# Créer un modèle RandomForestClassifier\n",
    "model = RandomForestClassifier(n_estimators=100, random_state=42)\n",
    "\n",
    "# Entraîner le modèle sur l'ensemble d'entraînement\n",
    "model.fit(X_train, y_train)\n",
    "\n",
    "# Faire des prédictions sur l'ensemble de test\n",
    "predictions = model.predict(X_test)\n",
    "\n",
    "# Évaluer la performance du modèle\n",
    "accuracy = accuracy_score(y_test, predictions)\n",
    "print(f\"Précision du modèle : {accuracy:.2f}\")\n",
    "\n",
    "# Afficher le rapport de classification\n",
    "print(\"\\nRapport de classification :\")\n",
    "print(classification_report(y_test, predictions))"
   ]
  },
  {
   "cell_type": "code",
   "execution_count": null,
   "metadata": {},
   "outputs": [],
   "source": []
  },
  {
   "cell_type": "code",
   "execution_count": null,
   "metadata": {},
   "outputs": [],
   "source": []
  },
  {
   "cell_type": "code",
   "execution_count": null,
   "metadata": {},
   "outputs": [],
   "source": []
  },
  {
   "cell_type": "code",
   "execution_count": null,
   "metadata": {},
   "outputs": [],
   "source": []
  }
 ],
 "metadata": {
  "kernelspec": {
   "display_name": "base_numpy",
   "language": "python",
   "name": "python3"
  },
  "language_info": {
   "codemirror_mode": {
    "name": "ipython",
    "version": 3
   },
   "file_extension": ".py",
   "mimetype": "text/x-python",
   "name": "python",
   "nbconvert_exporter": "python",
   "pygments_lexer": "ipython3",
   "version": "3.11.4"
  },
  "orig_nbformat": 4
 },
 "nbformat": 4,
 "nbformat_minor": 2
}
